{
 "cells": [
  {
   "cell_type": "code",
   "execution_count": 1,
   "metadata": {},
   "outputs": [],
   "source": [
    "%matplotlib inline\n",
    "import numpy as np\n",
    "import scipy as sp\n",
    "import matplotlib as mpl\n",
    "import matplotlib.cm as cm\n",
    "import matplotlib.pyplot as plt\n",
    "import pandas as pd\n",
    "import time\n",
    "pd.set_option('display.width', 500)\n",
    "pd.set_option('display.max_columns', 100)\n",
    "pd.set_option('display.notebook_repr_html', True)\n",
    "import seaborn as sns\n",
    "sns.set_style(\"whitegrid\")\n",
    "sns.set_context(\"poster\")"
   ]
  },
  {
   "cell_type": "code",
   "execution_count": 4,
   "metadata": {},
   "outputs": [],
   "source": [
    "import requests\n",
    "\n",
    "req = requests.get(\"https://en.wikipedia.org/wiki/Billboard_Year-End_Hot_100_singles_of_1970\")"
   ]
  },
  {
   "cell_type": "code",
   "execution_count": 5,
   "metadata": {},
   "outputs": [],
   "source": [
    "from bs4 import BeautifulSoup\n",
    "page = req.text\n",
    "soup = BeautifulSoup(page, 'html.parser')\n",
    "soup.table[\"class\"]\n",
    "\n",
    "table_html = soup.find('table', attrs={'class':'wikitable sortable'})"
   ]
  },
  {
   "cell_type": "code",
   "execution_count": 6,
   "metadata": {},
   "outputs": [
    {
     "name": "stdout",
     "output_type": "stream",
     "text": [
      "[{'band_singer': 'The Guess Who', 'ranking': '3', 'title': '\"American Woman\"', 'url': '/wiki/American_Woman'}, {'band_singer': 'B.J. Thomas', 'ranking': '4', 'title': '\"Raindrops Keep Fallin\\' on My Head\"', 'url': '/wiki/Raindrops_Keep_Fallin%27_on_My_Head'}]\n"
     ]
    }
   ],
   "source": [
    "songs_list = []\n",
    "\n",
    "table_row_list = table_html.find_all('tr')\n",
    "table_rows = table_row_list[1:] \n",
    "table_rows\n",
    "\n",
    "for row in table_rows:\n",
    "#     print(row)\n",
    "    table_row_values = row.find_all('td')\n",
    "    \n",
    "#     print(table_cols)\n",
    "    \n",
    "    ranking = table_row_values[0].get_text()\n",
    "    title = table_row_values[1].get_text()\n",
    "    band_singer = table_row_values[2].get_text().replace(\"\\n\",\"\")\n",
    "    \n",
    "    url = table_row_values[1].a[\"href\"]\n",
    "    \n",
    "    dic = {'band_singer': band_singer,\n",
    "           'ranking': ranking,\n",
    "           'title': title,\n",
    "           'url': url}\n",
    "    songs_list.append(dic)\n",
    "print(songs_list[2:4])"
   ]
  },
  {
   "cell_type": "code",
   "execution_count": 7,
   "metadata": {},
   "outputs": [],
   "source": [
    "years = {}\n",
    "\n",
    "for y in range(1992,2015):\n",
    "    st = \"https://en.wikipedia.org/wiki/Billboard_Year-End_Hot_100_singles_of_\"+ str(y)\n",
    "    temp_req = requests.get(st)\n",
    "    years[y] = temp_req.text"
   ]
  },
  {
   "cell_type": "code",
   "execution_count": 8,
   "metadata": {},
   "outputs": [],
   "source": [
    "def parse_year(the_year, yeartext_dict):\n",
    "    year = the_year\n",
    "    yearinfo = []\n",
    "    song = []\n",
    "    songurl = []\n",
    "    band_singer = []\n",
    "    title = []\n",
    "    url = []\n",
    "    title_text = ''\n",
    "    i = 0\n",
    "    title_string = ''\n",
    "    band_singer = ''\n",
    "    soup = BeautifulSoup(years[year], \"lxml\")\n",
    "    tables = soup.find('table', attrs={'class':'wikitable sortable'})        \n",
    "    #iterates through tree structure, scraping our data\n",
    "    tr_list = tables.find_all('tr')    \n",
    "    for tr in tr_list:\n",
    "        td_list = tr.find_all('td')\n",
    "        if td_list == [] :\n",
    "            td_list = []\n",
    "        else : \n",
    "            ranking = tr.th.string\n",
    "            links = tr.td.findAll('a')\n",
    "            number_of_links = len(links)   \n",
    "            if number_of_links == 0:\n",
    "                songurl = [None]\n",
    "                title_text = [a['title']]\n",
    "                song.append(a['title'] )\n",
    "            else :\n",
    "                i = 0\n",
    "                for a in tr.td.findAll('a') : \n",
    "                    song.append(a['title'] )\n",
    "                    title_string = '\\\"' + a['title'] + '\\\"'    \n",
    "                    if i == 0 :\n",
    "                        title_text = title_string\n",
    "                        i = i + 1\n",
    "                    else :\n",
    "                        title_text = title_text + ' / ' + title_string\n",
    "                        i = i + 1    \n",
    "                    songurl.append(a['href'])\n",
    "            title = song\n",
    "            #finds next td tag\n",
    "            tr.td.findNext('td') \n",
    "            temp = len(tr.td.findNext('td').findAll('a'))\n",
    "            if temp == 0:\n",
    "                singer_url = [None]\n",
    "                band_singer = tr.td.findNext('td').string\n",
    "                band_singer = [band_singer]\n",
    "            elif temp == 1:\n",
    "                singer_url = tr.td.findNext('td').a['href']\n",
    "                singer_url = [singer_url]\n",
    "                band_singer = tr.td.findNext('td').a.string\n",
    "                band_singer = [band_singer]\n",
    "            else:\n",
    "                singer_url = []\n",
    "                band_singer = []\n",
    "                for a in tr.td.findNext('td').findAll('a'):\n",
    "                    webpage = a['href']\n",
    "                    singer_url.append(webpage)\n",
    "                    band_singer.append(a.string)            \n",
    "            #creates dictionary entry                   \n",
    "            dict_entry = {'band_singer' : band_singer,\n",
    "            'ranking' : ranking.replace(\"\\n\",\"\"),\n",
    "            'song' : title, 'songurl': songurl, 'titletext' : title_text,\n",
    "            'url' : singer_url}\n",
    "            #appends new dictionary to our list\n",
    "            yearinfo.append(dict_entry)      \n",
    "            songurl = []\n",
    "            song = []\n",
    "            title_string = ''\n",
    "            title_text = ''    \n",
    "    return(yearinfo)"
   ]
  },
  {
   "cell_type": "code",
   "execution_count": 9,
   "metadata": {},
   "outputs": [
    {
     "name": "stdout",
     "output_type": "stream",
     "text": [
      "[{'band_singer': ['Elton John'], 'ranking': '1', 'song': ['Something About the Way You Look Tonight', 'Candle in the Wind 1997'], 'songurl': ['/wiki/Something_About_the_Way_You_Look_Tonight', '/wiki/Candle_in_the_Wind_1997'], 'titletext': '\"Something About the Way You Look Tonight\" / \"Candle in the Wind 1997\"', 'url': ['/wiki/Elton_John']}, {'band_singer': ['Jewel'], 'ranking': '2', 'song': ['Foolish Games', 'You Were Meant for Me (Jewel song)'], 'songurl': ['/wiki/Foolish_Games', '/wiki/You_Were_Meant_for_Me_(Jewel_song)'], 'titletext': '\"Foolish Games\" / \"You Were Meant for Me (Jewel song)\"', 'url': ['/wiki/Jewel_(singer)']}, {'band_singer': ['Puff Daddy', 'Faith Evans', '112'], 'ranking': '3', 'song': [\"I'll Be Missing You\"], 'songurl': ['/wiki/I%27ll_Be_Missing_You'], 'titletext': '\"I\\'ll Be Missing You\"', 'url': ['/wiki/Sean_Combs', '/wiki/Faith_Evans', '/wiki/112_(band)']}, {'band_singer': ['Toni Braxton'], 'ranking': '4', 'song': ['Un-Break My Heart'], 'songurl': ['/wiki/Un-Break_My_Heart'], 'titletext': '\"Un-Break My Heart\"', 'url': ['/wiki/Toni_Braxton']}, {'band_singer': ['Puff Daddy', 'Mase'], 'ranking': '5', 'song': [\"Can't Nobody Hold Me Down\"], 'songurl': ['/wiki/Can%27t_Nobody_Hold_Me_Down'], 'titletext': '\"Can\\'t Nobody Hold Me Down\"', 'url': ['/wiki/Sean_Combs', '/wiki/Mase']}, {'band_singer': ['R. Kelly'], 'ranking': '6', 'song': ['I Believe I Can Fly'], 'songurl': ['/wiki/I_Believe_I_Can_Fly'], 'titletext': '\"I Believe I Can Fly\"', 'url': ['/wiki/R._Kelly']}, {'band_singer': ['En Vogue'], 'ranking': '7', 'song': [\"Don't Let Go (Love)\"], 'songurl': ['/wiki/Don%27t_Let_Go_(Love)'], 'titletext': '\"Don\\'t Let Go (Love)\"', 'url': ['/wiki/En_Vogue']}, {'band_singer': ['Mark Morrison'], 'ranking': '8', 'song': ['Return of the Mack'], 'songurl': ['/wiki/Return_of_the_Mack'], 'titletext': '\"Return of the Mack\"', 'url': ['/wiki/Mark_Morrison']}, {'band_singer': ['LeAnn Rimes'], 'ranking': '9', 'song': ['How Do I Live'], 'songurl': ['/wiki/How_Do_I_Live'], 'titletext': '\"How Do I Live\"', 'url': ['/wiki/LeAnn_Rimes']}, {'band_singer': ['Spice Girls'], 'ranking': '10', 'song': ['Wannabe'], 'songurl': ['/wiki/Wannabe'], 'titletext': '\"Wannabe\"', 'url': ['/wiki/Spice_Girls']}, {'band_singer': ['Backstreet Boys'], 'ranking': '11', 'song': ['Quit Playing Games (With My Heart)'], 'songurl': ['/wiki/Quit_Playing_Games_(With_My_Heart)'], 'titletext': '\"Quit Playing Games (With My Heart)\"', 'url': ['/wiki/Backstreet_Boys']}, {'band_singer': ['Hanson'], 'ranking': '12', 'song': ['MMMBop'], 'songurl': ['/wiki/MMMBop'], 'titletext': '\"MMMBop\"', 'url': ['/wiki/Hanson_(band)']}, {'band_singer': ['Monica'], 'ranking': '13', 'song': ['For You I Will (Monica song)'], 'songurl': ['/wiki/For_You_I_Will_(Monica_song)'], 'titletext': '\"For You I Will (Monica song)\"', 'url': ['/wiki/Monica_(singer)']}, {'band_singer': ['Usher'], 'ranking': '14', 'song': ['You Make Me Wanna...'], 'songurl': ['/wiki/You_Make_Me_Wanna...'], 'titletext': '\"You Make Me Wanna...\"', 'url': ['/wiki/Usher_(entertainer)']}, {'band_singer': ['Meredith Brooks'], 'ranking': '15', 'song': ['Bitch (Meredith Brooks song)'], 'songurl': ['/wiki/Bitch_(Meredith_Brooks_song)'], 'titletext': '\"Bitch (Meredith Brooks song)\"', 'url': ['/wiki/Meredith_Brooks']}, {'band_singer': ['Keith Sweat', 'Athena Cage'], 'ranking': '16', 'song': ['Nobody (Keith Sweat song)'], 'songurl': ['/wiki/Nobody_(Keith_Sweat_song)'], 'titletext': '\"Nobody (Keith Sweat song)\"', 'url': ['/wiki/Keith_Sweat', '/wiki/Athena_Cage']}, {'band_singer': ['Third Eye Blind'], 'ranking': '17', 'song': ['Semi-Charmed Life'], 'songurl': ['/wiki/Semi-Charmed_Life'], 'titletext': '\"Semi-Charmed Life\"', 'url': ['/wiki/Third_Eye_Blind']}, {'band_singer': ['Duncan Sheik'], 'ranking': '18', 'song': ['Barely Breathing'], 'songurl': ['/wiki/Barely_Breathing'], 'titletext': '\"Barely Breathing\"', 'url': ['/wiki/Duncan_Sheik']}, {'band_singer': ['Az Yet', 'Peter Cetera'], 'ranking': '19', 'song': [\"Hard to Say I'm Sorry\"], 'songurl': ['/wiki/Hard_to_Say_I%27m_Sorry'], 'titletext': '\"Hard to Say I\\'m Sorry\"', 'url': ['/wiki/Az_Yet', '/wiki/Peter_Cetera']}, {'band_singer': ['The Notorious B.I.G.', 'Puff Daddy', 'Mase'], 'ranking': '20', 'song': ['Mo Money Mo Problems'], 'songurl': ['/wiki/Mo_Money_Mo_Problems'], 'titletext': '\"Mo Money Mo Problems\"', 'url': ['/wiki/The_Notorious_B.I.G.', '/wiki/Sean_Combs', '/wiki/Mase']}, {'band_singer': ['The Verve Pipe'], 'ranking': '21', 'song': ['The Freshmen (song)'], 'songurl': ['/wiki/The_Freshmen_(song)'], 'titletext': '\"The Freshmen (song)\"', 'url': ['/wiki/The_Verve_Pipe']}, {'band_singer': ['Savage Garden'], 'ranking': '22', 'song': ['I Want You (Savage Garden song)'], 'songurl': ['/wiki/I_Want_You_(Savage_Garden_song)'], 'titletext': '\"I Want You (Savage Garden song)\"', 'url': ['/wiki/Savage_Garden']}, {'band_singer': ['Blackstreet', 'Dr. Dre'], 'ranking': '23', 'song': ['No Diggity'], 'songurl': ['/wiki/No_Diggity'], 'titletext': '\"No Diggity\"', 'url': ['/wiki/Blackstreet', '/wiki/Dr._Dre']}, {'band_singer': ['Rome'], 'ranking': '24', 'song': ['I Belong to You (Every Time I See Your Face)'], 'songurl': ['/wiki/I_Belong_to_You_(Every_Time_I_See_Your_Face)'], 'titletext': '\"I Belong to You (Every Time I See Your Face)\"', 'url': ['/wiki/Rome_(musician)']}, {'band_singer': ['The Notorious B.I.G.'], 'ranking': '25', 'song': ['Hypnotize (The Notorious B.I.G. song)'], 'songurl': ['/wiki/Hypnotize_(The_Notorious_B.I.G._song)'], 'titletext': '\"Hypnotize (The Notorious B.I.G. song)\"', 'url': ['/wiki/The_Notorious_B.I.G.']}, {'band_singer': ['Babyface'], 'ranking': '26', 'song': ['Every Time I Close My Eyes'], 'songurl': ['/wiki/Every_Time_I_Close_My_Eyes'], 'titletext': '\"Every Time I Close My Eyes\"', 'url': ['/wiki/Babyface_(musician)']}, {'band_singer': ['Dru Hill'], 'ranking': '27', 'song': ['In My Bed'], 'songurl': ['/wiki/In_My_Bed'], 'titletext': '\"In My Bed\"', 'url': ['/wiki/Dru_Hill']}, {'band_singer': ['Spice Girls'], 'ranking': '28', 'song': [\"Say You'll Be There\"], 'songurl': ['/wiki/Say_You%27ll_Be_There'], 'titletext': '\"Say You\\'ll Be There\"', 'url': ['/wiki/Spice_Girls']}, {'band_singer': ['Robyn'], 'ranking': '29', 'song': ['Do You Know (What It Takes)'], 'songurl': ['/wiki/Do_You_Know_(What_It_Takes)'], 'titletext': '\"Do You Know (What It Takes)\"', 'url': ['/wiki/Robyn']}, {'band_singer': ['Boyz II Men'], 'ranking': '30', 'song': ['4 Seasons of Loneliness'], 'songurl': ['/wiki/4_Seasons_of_Loneliness'], 'titletext': '\"4 Seasons of Loneliness\"', 'url': ['/wiki/Boyz_II_Men']}, {'band_singer': ['Changing Faces'], 'ranking': '31', 'song': ['G.H.E.T.T.O.U.T.'], 'songurl': ['/wiki/G.H.E.T.T.O.U.T.'], 'titletext': '\"G.H.E.T.T.O.U.T.\"', 'url': ['/wiki/Changing_Faces_(group)']}, {'band_singer': ['Mariah Carey'], 'ranking': '32', 'song': ['Honey (Mariah Carey song)'], 'songurl': ['/wiki/Honey_(Mariah_Carey_song)'], 'titletext': '\"Honey (Mariah Carey song)\"', 'url': ['/wiki/Mariah_Carey']}, {'band_singer': ['Whitney Houston'], 'ranking': '33', 'song': ['I Believe in You and Me'], 'songurl': ['/wiki/I_Believe_in_You_and_Me'], 'titletext': '\"I Believe in You and Me\"', 'url': ['/wiki/Whitney_Houston']}, {'band_singer': ['Freak Nasty'], 'ranking': '34', 'song': [\"Da' Dip\"], 'songurl': ['/wiki/Da%27_Dip'], 'titletext': '\"Da\\' Dip\"', 'url': ['/wiki/Freak_Nasty']}, {'band_singer': ['Spice Girls'], 'ranking': '35', 'song': ['2 Become 1'], 'songurl': ['/wiki/2_Become_1'], 'titletext': '\"2 Become 1\"', 'url': ['/wiki/Spice_Girls']}, {'band_singer': ['Sister Hazel'], 'ranking': '36', 'song': ['All for You (Sister Hazel song)'], 'songurl': ['/wiki/All_for_You_(Sister_Hazel_song)'], 'titletext': '\"All for You (Sister Hazel song)\"', 'url': ['/wiki/Sister_Hazel']}, {'band_singer': ['112'], 'ranking': '37', 'song': ['Cupid (112 song)'], 'songurl': ['/wiki/Cupid_(112_song)'], 'titletext': '\"Cupid (112 song)\"', 'url': ['/wiki/112_(band)']}, {'band_singer': ['Paula Cole'], 'ranking': '38', 'song': ['Where Have All the Cowboys Gone?'], 'songurl': ['/wiki/Where_Have_All_the_Cowboys_Gone%3F'], 'titletext': '\"Where Have All the Cowboys Gone?\"', 'url': ['/wiki/Paula_Cole']}, {'band_singer': ['Shawn Colvin'], 'ranking': '39', 'song': ['Sunny Came Home'], 'songurl': ['/wiki/Sunny_Came_Home'], 'titletext': '\"Sunny Came Home\"', 'url': ['/wiki/Shawn_Colvin']}, {'band_singer': ['Tim McGraw', 'Faith Hill'], 'ranking': '40', 'song': [\"It's Your Love\"], 'songurl': ['/wiki/It%27s_Your_Love'], 'titletext': '\"It\\'s Your Love\"', 'url': ['/wiki/Tim_McGraw', '/wiki/Faith_Hill']}, {'band_singer': ['Gina G'], 'ranking': '41', 'song': ['Ooh Aah... Just a Little Bit'], 'songurl': ['/wiki/Ooh_Aah..._Just_a_Little_Bit'], 'titletext': '\"Ooh Aah... Just a Little Bit\"', 'url': ['/wiki/Gina_G']}, {'band_singer': ['Merril Bainbridge'], 'ranking': '42', 'song': ['Mouth (song)'], 'songurl': ['/wiki/Mouth_(song)'], 'titletext': '\"Mouth (song)\"', 'url': ['/wiki/Merril_Bainbridge']}, {'band_singer': ['Allure', '112'], 'ranking': '43', 'song': ['All Cried Out (Lisa Lisa & Cult Jam song)'], 'songurl': ['/wiki/All_Cried_Out_(Lisa_Lisa_%26_Cult_Jam_song)'], 'titletext': '\"All Cried Out (Lisa Lisa & Cult Jam song)\"', 'url': ['/wiki/Allure_(group)', '/wiki/112_(band)']}, {'band_singer': ['New Edition'], 'ranking': '44', 'song': [\"I'm Still in Love with You (New Edition song)\"], 'songurl': ['/wiki/I%27m_Still_in_Love_with_You_(New_Edition_song)'], 'titletext': '\"I\\'m Still in Love with You (New Edition song)\"', 'url': ['/wiki/New_Edition']}, {'band_singer': ['98 Degrees'], 'ranking': '45', 'song': ['Invisible Man (song)'], 'songurl': ['/wiki/Invisible_Man_(song)'], 'titletext': '\"Invisible Man (song)\"', 'url': ['/wiki/98_Degrees']}, {'band_singer': [\"Lil' Kim\", 'Da Brat', 'Left Eye', 'Missy Elliott', 'Angie Martinez'], 'ranking': '46', 'song': ['Not Tonight'], 'songurl': ['/wiki/Not_Tonight'], 'titletext': '\"Not Tonight\"', 'url': ['/wiki/Lil%27_Kim', '/wiki/Da_Brat', '/wiki/Lisa_Lopes', '/wiki/Missy_Elliott', '/wiki/Angie_Martinez']}, {'band_singer': ['Bone Thugs-n-Harmony'], 'ranking': '47', 'song': ['Look into My Eyes (Bone Thugs-n-Harmony song)'], 'songurl': ['/wiki/Look_into_My_Eyes_(Bone_Thugs-n-Harmony_song)'], 'titletext': '\"Look into My Eyes (Bone Thugs-n-Harmony song)\"', 'url': ['/wiki/Bone_Thugs-n-Harmony']}, {'band_singer': ['702'], 'ranking': '48', 'song': ['Get It Together (702 song)'], 'songurl': ['/wiki/Get_It_Together_(702_song)'], 'titletext': '\"Get It Together (702 song)\"', 'url': ['/wiki/702_(band)']}, {'band_singer': ['Celine Dion'], 'ranking': '49', 'song': ['All by Myself'], 'songurl': ['/wiki/All_by_Myself#Céline_Dion_version'], 'titletext': '\"All by Myself\"', 'url': ['/wiki/Celine_Dion']}, {'band_singer': ['Celine Dion'], 'ranking': '50', 'song': [\"It's All Coming Back to Me Now\"], 'songurl': ['/wiki/It%27s_All_Coming_Back_to_Me_Now'], 'titletext': '\"It\\'s All Coming Back to Me Now\"', 'url': ['/wiki/Celine_Dion']}, {'band_singer': [\"Somethin' for the People\", 'Trina & Tamara'], 'ranking': '51', 'song': ['My Love Is the Shhh!'], 'songurl': ['/wiki/My_Love_Is_the_Shhh!'], 'titletext': '\"My Love Is the Shhh!\"', 'url': ['/wiki/Somethin%27_for_the_People', '/wiki/Trina_%26_Tamara']}, {'band_singer': ['No Mercy'], 'ranking': '52', 'song': ['Where Do You Go (No Mercy song)'], 'songurl': ['/wiki/Where_Do_You_Go_(No_Mercy_song)'], 'titletext': '\"Where Do You Go (No Mercy song)\"', 'url': ['/wiki/No_Mercy_(pop_band)']}, {'band_singer': ['Barbra Streisand', 'Bryan Adams'], 'ranking': '53', 'song': ['I Finally Found Someone'], 'songurl': ['/wiki/I_Finally_Found_Someone'], 'titletext': '\"I Finally Found Someone\"', 'url': ['/wiki/Barbra_Streisand', '/wiki/Bryan_Adams']}, {'band_singer': ['Foxy Brown', 'Jay-Z'], 'ranking': '54', 'song': [\"I'll Be (Foxy Brown song)\"], 'songurl': ['/wiki/I%27ll_Be_(Foxy_Brown_song)'], 'titletext': '\"I\\'ll Be (Foxy Brown song)\"', 'url': ['/wiki/Foxy_Brown_(rapper)', '/wiki/Jay-Z']}, {'band_singer': ['Sheryl Crow'], 'ranking': '55', 'song': ['If It Makes You Happy'], 'songurl': ['/wiki/If_It_Makes_You_Happy'], 'titletext': '\"If It Makes You Happy\"', 'url': ['/wiki/Sheryl_Crow']}, {'band_singer': ['Dru Hill'], 'ranking': '56', 'song': ['Never Make a Promise'], 'songurl': ['/wiki/Never_Make_a_Promise'], 'titletext': '\"Never Make a Promise\"', 'url': ['/wiki/Dru_Hill']}, {'band_singer': ['Journey'], 'ranking': '57', 'song': ['When You Love a Woman'], 'songurl': ['/wiki/When_You_Love_a_Woman'], 'titletext': '\"When You Love a Woman\"', 'url': ['/wiki/Journey_(band)']}, {'band_singer': ['Timbaland & Magoo', 'Missy Elliott', 'Aaliyah'], 'ranking': '58', 'song': ['Up Jumps da Boogie'], 'songurl': ['/wiki/Up_Jumps_da_Boogie'], 'titletext': '\"Up Jumps da Boogie\"', 'url': ['/wiki/Timbaland_%26_Magoo', '/wiki/Missy_Elliott', '/wiki/Aaliyah']}, {'band_singer': ['Toni Braxton'], 'ranking': '59', 'song': [\"I Don't Want To\", 'I Love Me Some Him'], 'songurl': ['/wiki/I_Don%27t_Want_To', '/wiki/I_Love_Me_Some_Him'], 'titletext': '\"I Don\\'t Want To\" / \"I Love Me Some Him\"', 'url': ['/wiki/Toni_Braxton']}, {'band_singer': ['Sheryl Crow'], 'ranking': '60', 'song': ['Everyday Is a Winding Road'], 'songurl': ['/wiki/Everyday_Is_a_Winding_Road'], 'titletext': '\"Everyday Is a Winding Road\"', 'url': ['/wiki/Sheryl_Crow']}, {'band_singer': ['MC Lyte'], 'ranking': '61', 'song': ['Cold Rock a Party'], 'songurl': ['/wiki/Cold_Rock_a_Party'], 'titletext': '\"Cold Rock a Party\"', 'url': ['/wiki/MC_Lyte']}, {'band_singer': ['Ginuwine'], 'ranking': '62', 'song': ['Pony (Ginuwine song)'], 'songurl': ['/wiki/Pony_(Ginuwine_song)'], 'titletext': '\"Pony (Ginuwine song)\"', 'url': ['/wiki/Ginuwine']}, {'band_singer': ['Sarah McLachlan'], 'ranking': '63', 'song': ['Building a Mystery'], 'songurl': ['/wiki/Building_a_Mystery'], 'titletext': '\"Building a Mystery\"', 'url': ['/wiki/Sarah_McLachlan']}, {'band_singer': ['Donna Lewis'], 'ranking': '64', 'song': ['I Love You Always Forever'], 'songurl': ['/wiki/I_Love_You_Always_Forever'], 'titletext': '\"I Love You Always Forever\"', 'url': ['/wiki/Donna_Lewis']}, {'band_singer': ['White Town'], 'ranking': '65', 'song': ['Your Woman'], 'songurl': ['/wiki/Your_Woman'], 'titletext': '\"Your Woman\"', 'url': ['/wiki/White_Town']}, {'band_singer': ['Coolio'], 'ranking': '66', 'song': ['C U When U Get There'], 'songurl': ['/wiki/C_U_When_U_Get_There'], 'titletext': '\"C U When U Get There\"', 'url': ['/wiki/Coolio']}, {'band_singer': ['Eric Clapton'], 'ranking': '67', 'song': ['Change the World'], 'songurl': ['/wiki/Change_the_World'], 'titletext': '\"Change the World\"', 'url': ['/wiki/Eric_Clapton']}, {'band_singer': ['B-Rock and the Bizz'], 'ranking': '68', 'song': ['My Baby Daddy'], 'songurl': ['/wiki/My_Baby_Daddy'], 'titletext': '\"My Baby Daddy\"', 'url': ['/wiki/B-Rock_and_the_Bizz']}, {'band_singer': ['Chumbawamba'], 'ranking': '69', 'song': ['Tubthumping'], 'songurl': ['/wiki/Tubthumping'], 'titletext': '\"Tubthumping\"', 'url': ['/wiki/Chumbawamba']}, {'band_singer': ['R. Kelly'], 'ranking': '70', 'song': ['Gotham City (song)'], 'songurl': ['/wiki/Gotham_City_(song)'], 'titletext': '\"Gotham City (song)\"', 'url': ['/wiki/R._Kelly']}, {'band_singer': ['Az Yet'], 'ranking': '71', 'song': ['Last Night (Az Yet song)'], 'songurl': ['/wiki/Last_Night_(Az_Yet_song)'], 'titletext': '\"Last Night (Az Yet song)\"', 'url': ['/wiki/Az_Yet']}, {'band_singer': ['Various Artists\\n'], 'ranking': '72', 'song': ['Jock Jam'], 'songurl': ['/wiki/Jock_Jam'], 'titletext': '\"Jock Jam\"', 'url': [None]}, {'band_singer': ['Heavy D'], 'ranking': '73', 'song': ['Big Daddy (song)'], 'songurl': ['/wiki/Big_Daddy_(song)'], 'titletext': '\"Big Daddy (song)\"', 'url': ['/wiki/Heavy_D']}, {'band_singer': ['Total'], 'ranking': '74', 'song': ['What About Us? (Total song)'], 'songurl': ['/wiki/What_About_Us%3F_(Total_song)'], 'titletext': '\"What About Us? (Total song)\"', 'url': ['/wiki/Total_(band)']}, {'band_singer': ['Scarface', '2Pac'], 'ranking': '75', 'song': ['Smile (Scarface song)'], 'songurl': ['/wiki/Smile_(Scarface_song)'], 'titletext': '\"Smile (Scarface song)\"', 'url': ['/wiki/Scarface_(rapper)', '/wiki/Tupac_Shakur']}, {'band_singer': ['Montell Jordan'], 'ranking': '76', 'song': [\"What's on Tonight\"], 'songurl': ['/wiki/What%27s_on_Tonight'], 'titletext': '\"What\\'s on Tonight\"', 'url': ['/wiki/Montell_Jordan']}, {'band_singer': ['Bruce Springsteen'], 'ranking': '77', 'song': ['Secret Garden (Bruce Springsteen song)'], 'songurl': ['/wiki/Secret_Garden_(Bruce_Springsteen_song)'], 'titletext': '\"Secret Garden (Bruce Springsteen song)\"', 'url': ['/wiki/Bruce_Springsteen']}, {'band_singer': ['Aaliyah'], 'ranking': '78', 'song': ['The One I Gave My Heart To'], 'songurl': ['/wiki/The_One_I_Gave_My_Heart_To'], 'titletext': '\"The One I Gave My Heart To\"', 'url': ['/wiki/Aaliyah']}, {'band_singer': ['Seal'], 'ranking': '79', 'song': ['Fly Like an Eagle (song)'], 'songurl': ['/wiki/Fly_Like_an_Eagle_(song)#Cover_versions'], 'titletext': '\"Fly Like an Eagle (song)\"', 'url': ['/wiki/Seal_(musician)']}, {'band_singer': [\"Lil' Kim\", 'Puff Daddy'], 'ranking': '80', 'song': [\"No Time (Lil' Kim song)\"], 'songurl': ['/wiki/No_Time_(Lil%27_Kim_song)'], 'titletext': '\"No Time (Lil\\' Kim song)\"', 'url': ['/wiki/Lil%27_Kim', '/wiki/Sean_Combs']}, {'band_singer': ['Luscious Jackson'], 'ranking': '81', 'song': ['Naked Eye (song)'], 'songurl': ['/wiki/Naked_Eye_(song)'], 'titletext': '\"Naked Eye (song)\"', 'url': ['/wiki/Luscious_Jackson']}, {'band_singer': ['Los del Río'], 'ranking': '82', 'song': ['Macarena (song)'], 'songurl': ['/wiki/Macarena_(song)'], 'titletext': '\"Macarena (song)\"', 'url': ['/wiki/Los_del_R%C3%ADo']}, {'band_singer': ['Erykah Badu'], 'ranking': '83', 'song': ['On & On (Erykah Badu song)'], 'songurl': ['/wiki/On_%26_On_(Erykah_Badu_song)'], 'titletext': '\"On & On (Erykah Badu song)\"', 'url': ['/wiki/Erykah_Badu']}, {'band_singer': ['Joe'], 'ranking': '84', 'song': [\"Don't Wanna Be a Player\"], 'songurl': ['/wiki/Don%27t_Wanna_Be_a_Player'], 'titletext': '\"Don\\'t Wanna Be a Player\"', 'url': ['/wiki/Joe_(singer)']}, {'band_singer': ['Warren G'], 'ranking': '85', 'song': ['I Shot the Sheriff (Warren G song)'], 'songurl': ['/wiki/I_Shot_the_Sheriff_(Warren_G_song)'], 'titletext': '\"I Shot the Sheriff (Warren G song)\"', 'url': ['/wiki/Warren_G']}, {'band_singer': ['Brian McKnight', 'Mase'], 'ranking': '86', 'song': [\"You Should Be Mine (Don't Waste Your Time)\"], 'songurl': ['/wiki/You_Should_Be_Mine_(Don%27t_Waste_Your_Time)'], 'titletext': '\"You Should Be Mine (Don\\'t Waste Your Time)\"', 'url': ['/wiki/Brian_McKnight', '/wiki/Mase']}, {'band_singer': ['Madonna'], 'ranking': '87', 'song': [\"Don't Cry for Me Argentina\"], 'songurl': ['/wiki/Don%27t_Cry_for_Me_Argentina'], 'titletext': '\"Don\\'t Cry for Me Argentina\"', 'url': ['/wiki/Madonna_(entertainer)']}, {'band_singer': ['SWV', 'Puff Daddy'], 'ranking': '88', 'song': [\"Don't Cry for Me Argentina\"], 'songurl': [None], 'titletext': [\"Don't Cry for Me Argentina\"], 'url': ['/wiki/SWV', '/wiki/Sean_Combs']}, {'band_singer': ['Michael Bolton'], 'ranking': '89', 'song': ['Go the Distance'], 'songurl': ['/wiki/Go_the_Distance'], 'titletext': '\"Go the Distance\"', 'url': ['/wiki/Michael_Bolton']}, {'band_singer': ['Real McCoy'], 'ranking': '90', 'song': ['One More Time (Real McCoy song)'], 'songurl': ['/wiki/One_More_Time_(Real_McCoy_song)'], 'titletext': '\"One More Time (Real McCoy song)\"', 'url': ['/wiki/Real_McCoy_(band)']}, {'band_singer': ['Next'], 'ranking': '91', 'song': ['One More Time (Real McCoy song)'], 'songurl': [None], 'titletext': ['One More Time (Real McCoy song)'], 'url': ['/wiki/Next_(group)']}, {'band_singer': ['Mr. President'], 'ranking': '92', 'song': ['Coco Jambo'], 'songurl': ['/wiki/Coco_Jambo'], 'titletext': '\"Coco Jambo\"', 'url': ['/wiki/Mr._President_(band)']}, {'band_singer': ['Keith Sweat'], 'ranking': '93', 'song': ['Twisted (Keith Sweat song)'], 'songurl': ['/wiki/Twisted_(Keith_Sweat_song)'], 'titletext': '\"Twisted (Keith Sweat song)\"', 'url': ['/wiki/Keith_Sweat']}, {'band_singer': ['Aqua'], 'ranking': '94', 'song': ['Barbie Girl'], 'songurl': ['/wiki/Barbie_Girl'], 'titletext': '\"Barbie Girl\"', 'url': ['/wiki/Aqua_(band)']}, {'band_singer': ['The Cranberries'], 'ranking': '95', 'song': [\"When You're Gone (The Cranberries song)\", 'Free to Decide'], 'songurl': ['/wiki/When_You%27re_Gone_(The_Cranberries_song)', '/wiki/Free_to_Decide'], 'titletext': '\"When You\\'re Gone (The Cranberries song)\" / \"Free to Decide\"', 'url': ['/wiki/The_Cranberries']}, {'band_singer': ['DJ Kool'], 'ranking': '96', 'song': ['Let Me Clear My Throat'], 'songurl': ['/wiki/Let_Me_Clear_My_Throat'], 'titletext': '\"Let Me Clear My Throat\"', 'url': ['/wiki/DJ_Kool']}, {'band_singer': ['The Blackout All-Stars'], 'ranking': '97', 'song': ['I Like It Like That (Pete Rodriguez song)'], 'songurl': ['/wiki/I_Like_It_Like_That_(Pete_Rodriguez_song)#The_Blackout_All-Stars_version'], 'titletext': '\"I Like It Like That (Pete Rodriguez song)\"', 'url': ['/wiki/The_Blackout_All-Stars']}, {'band_singer': ['Toni Braxton'], 'ranking': '98', 'song': [\"You're Makin' Me High\", 'Let It Flow (song)'], 'songurl': ['/wiki/You%27re_Makin%27_Me_High', '/wiki/Let_It_Flow_(song)'], 'titletext': '\"You\\'re Makin\\' Me High\" / \"Let It Flow (song)\"', 'url': ['/wiki/Toni_Braxton']}, {'band_singer': ['Madonna'], 'ranking': '99', 'song': ['You Must Love Me'], 'songurl': ['/wiki/You_Must_Love_Me'], 'titletext': '\"You Must Love Me\"', 'url': ['/wiki/Madonna_(entertainer)']}, {'band_singer': ['Ray J'], 'ranking': '100', 'song': ['Let It Go (Ray J song)'], 'songurl': ['/wiki/Let_It_Go_(Ray_J_song)'], 'titletext': '\"Let It Go (Ray J song)\"', 'url': ['/wiki/Ray_J']}]\n"
     ]
    }
   ],
   "source": [
    "years_info = {}\n",
    "for y in range(1992,2005):\n",
    "  years_info.update({y: parse_year(y,years)})\n",
    "  \n",
    "print(years_info[1997])"
   ]
  },
  {
   "cell_type": "code",
   "execution_count": 12,
   "metadata": {},
   "outputs": [],
   "source": [
    "import json"
   ]
  },
  {
   "cell_type": "code",
   "execution_count": null,
   "metadata": {},
   "outputs": [],
   "source": [
    "# RERUN WHEN SUBMITTING\n",
    "# Another way to deal with files. Has the advantage of closing the file for you.\n",
    "with open(\"yearinfo.json\", \"r\") as fd:\n",
    "    yearinfo = json.load(fd)"
   ]
  },
  {
   "cell_type": "code",
   "execution_count": null,
   "metadata": {},
   "outputs": [],
   "source": [
    "rows = []\n",
    "for year in yearinfo.keys():\n",
    "    for song in yearinfo[year]:\n",
    "        song['year'] = year\n",
    "        rows.append(song)"
   ]
  },
  {
   "cell_type": "code",
   "execution_count": null,
   "metadata": {},
   "outputs": [],
   "source": [
    "rows2\n",
    "flatframe = pd.DataFrame(rows2)\n",
    "\n",
    "\n",
    "# check datatypes of dataframe columns\n",
    "flatframe['year'].dtype\n",
    "flatframe"
   ]
  },
  {
   "cell_type": "code",
   "execution_count": null,
   "metadata": {},
   "outputs": [],
   "source": [
    "artist_count = flatframe[\"band_singer\"].value_counts()\n",
    "\n",
    "artist_count"
   ]
  },
  {
   "cell_type": "code",
   "execution_count": 13,
   "metadata": {},
   "outputs": [],
   "source": [
    "urlcache={}"
   ]
  },
  {
   "cell_type": "code",
   "execution_count": 14,
   "metadata": {},
   "outputs": [],
   "source": [
    "def get_page(url):\n",
    "    # Check if URL has already been visited.\n",
    "    if (url not in urlcache) or (urlcache[url]==1) or (urlcache[url]==2):\n",
    "        time.sleep(1)\n",
    "        # try/except blocks are used whenever the code could generate an exception (e.g. division by zero).\n",
    "        # In this case we don't know if the page really exists, or even if it does, if we'll be able to reach it.\n",
    "        try:\n",
    "            r = requests.get(\"http://en.wikipedia.org%s\" % url)\n",
    "\n",
    "            if r.status_code == 200:\n",
    "                urlcache[url] = r.text\n",
    "            else:\n",
    "                urlcache[url] = 1\n",
    "        except:\n",
    "            urlcache[url] = 2\n",
    "    return urlcache[url]"
   ]
  },
  {
   "cell_type": "code",
   "execution_count": null,
   "metadata": {},
   "outputs": [],
   "source": [
    "flatframe=flatframe.sort_values('year')\n",
    "flatframe.head()\n",
    "urlcache"
   ]
  },
  {
   "cell_type": "code",
   "execution_count": null,
   "metadata": {},
   "outputs": [],
   "source": [
    "# DO NOT RERUN THIS CELL WHEN SUBMITTING\n",
    "# Here we are populating the url cache\n",
    "# subsequent calls to this cell should be very fast, since Python won't\n",
    "# need to fetch the page from the web server.\n",
    "# NOTE this function will take quite some time to run (about 30 mins for me), since we sleep 1 second before\n",
    "# making a request. If you run it again it will be almost instantaneous, save requests that might have failed\n",
    "# (you will need to run it again if requests fail..see cell below for how to test this)\n",
    "flatframe[\"url\"].apply(get_page)"
   ]
  },
  {
   "cell_type": "code",
   "execution_count": null,
   "metadata": {},
   "outputs": [],
   "source": [
    "# DO NOT RERUN THIS CELL WHEN SUBMITTING\n",
    "print(\"Number of bad requests:\",np.sum([(urlcache[k]==1) or (urlcache[k]==2) for k in urlcache])) # no one or 0's)\n",
    "print(\"Did we get all urls?\", len(flatframe.url.unique())==len(urlcache)) # we got all of the urls"
   ]
  },
  {
   "cell_type": "code",
   "execution_count": null,
   "metadata": {},
   "outputs": [],
   "source": [
    "# DO NOT RERUN THIS CELL WHEN SUBMITTING\n",
    "with open(\"data/artistinfo.json\",\"w\") as fd:\n",
    "    json.dump(urlcache, fd)\n",
    "del urlcache"
   ]
  },
  {
   "cell_type": "code",
   "execution_count": null,
   "metadata": {},
   "outputs": [],
   "source": [
    "# RERUN WHEN SUBMITTING\n",
    "with open(\"artistinfo.json\") as json_file:\n",
    "    urlcache = json.load(json_file)\n",
    "    \n",
    "urlcache"
   ]
  },
  {
   "cell_type": "code",
   "execution_count": 18,
   "metadata": {},
   "outputs": [],
   "source": [
    "def singer_band_info(url, page_text):\n",
    "    bday_dict = {}\n",
    "    bday = ''\n",
    "    ya = ''\n",
    "    # soupify our webpage\n",
    "    soup = BeautifulSoup(page_text[url], \"lxml\")\n",
    "    tables = soup.find('table', attrs={'class':'infobox vcard plainlist'})\n",
    "    if (tables == None):\n",
    "        tables = soup.find('table', attrs={'class':'infobox biography vcard'})\n",
    "    bday = tables.find('span', {'class': 'bday'})\n",
    "    if bday: \n",
    "        bday = bday.get_text()[:4]\n",
    "        bday_dict = {'url' : url, 'born' : bday, 'ya' : ya}\n",
    "    else:\n",
    "        ya = False\n",
    "        for tr in tables.find_all('tr'):\n",
    "            if hasattr(tr.th, 'span'):\n",
    "                if hasattr(tr.th.span, 'string'):\n",
    "                    if tr.th.span.string == 'Years active':                \n",
    "                        if hasattr(tr.th, 'span'):\n",
    "                            #ya = tr.td.string\n",
    "                            ya = tr.td.text   #DK add\n",
    "                            bday = 'False'\n",
    "                            bday_dict = {'url' : url, 'born' : 'False', 'ya' : ya}\n",
    "    return(bday_dict)"
   ]
  },
  {
   "cell_type": "code",
   "execution_count": null,
   "metadata": {},
   "outputs": [],
   "source": [
    "url = '/wiki/Iggy_Azalea'\n",
    "singer_band_info(url, urlcache)"
   ]
  },
  {
   "cell_type": "code",
   "execution_count": null,
   "metadata": {},
   "outputs": [],
   "source": [
    "list_of_addit_dicts = []\n",
    "bday_dict = {}\n",
    "for url in urlcache.keys():   \n",
    "    try:\n",
    "        bday_dict = singer_band_info(url, urlcache)\n",
    "        list_of_addit_dicts.append(bday_dict)\n",
    "    except:\n",
    "        break"
   ]
  },
  {
   "cell_type": "code",
   "execution_count": null,
   "metadata": {},
   "outputs": [],
   "source": [
    "additional_df = pd.DataFrame(list_of_addit_dicts)\n",
    "\n",
    "largedf = pd.merge(flatframe, additional_df, left_on='url', right_on='url', how=\"outer\")\n",
    "largedf"
   ]
  },
  {
   "cell_type": "code",
   "execution_count": null,
   "metadata": {},
   "outputs": [],
   "source": []
  }
 ],
 "metadata": {
  "kernelspec": {
   "display_name": "Python 3",
   "language": "python",
   "name": "python3"
  },
  "language_info": {
   "codemirror_mode": {
    "name": "ipython",
    "version": 3
   },
   "file_extension": ".py",
   "mimetype": "text/x-python",
   "name": "python",
   "nbconvert_exporter": "python",
   "pygments_lexer": "ipython3",
   "version": "3.6.5"
  }
 },
 "nbformat": 4,
 "nbformat_minor": 2
}
